{
 "cells": [
  {
   "cell_type": "code",
   "execution_count": 7,
   "id": "f6192978",
   "metadata": {},
   "outputs": [
    {
     "name": "stdout",
     "output_type": "stream",
     "text": [
      "Requirement already satisfied: flask in /usr/local/lib/python3.9/dist-packages (2.2.2)\n",
      "Requirement already satisfied: flask-session in /usr/local/lib/python3.9/dist-packages (0.4.0)\n",
      "Requirement already satisfied: numpy in /usr/local/lib/python3.9/dist-packages (1.23.5)\n",
      "Requirement already satisfied: pillow in /usr/local/lib/python3.9/dist-packages (9.3.0)\n",
      "Requirement already satisfied: itsdangerous>=2.0 in /usr/local/lib/python3.9/dist-packages (from flask) (2.1.2)\n",
      "Requirement already satisfied: click>=8.0 in /usr/local/lib/python3.9/dist-packages (from flask) (8.1.3)\n",
      "Requirement already satisfied: Werkzeug>=2.2.2 in /usr/local/lib/python3.9/dist-packages (from flask) (2.2.2)\n",
      "Requirement already satisfied: importlib-metadata>=3.6.0 in /usr/local/lib/python3.9/dist-packages (from flask) (5.1.0)\n",
      "Requirement already satisfied: Jinja2>=3.0 in /usr/local/lib/python3.9/dist-packages (from flask) (3.1.2)\n",
      "Requirement already satisfied: zipp>=0.5 in /usr/local/lib/python3.9/dist-packages (from importlib-metadata>=3.6.0->flask) (3.11.0)\n",
      "Requirement already satisfied: MarkupSafe>=2.0 in /usr/local/lib/python3.9/dist-packages (from Jinja2>=3.0->flask) (2.1.1)\n",
      "Requirement already satisfied: cachelib in /usr/local/lib/python3.9/dist-packages (from flask-session) (0.9.0)\n"
     ]
    }
   ],
   "source": [
    "!pip install flask flask-session numpy pillow"
   ]
  },
  {
   "cell_type": "code",
   "execution_count": null,
   "id": "afcfcd3c",
   "metadata": {
    "scrolled": false
   },
   "outputs": [
    {
     "name": "stdout",
     "output_type": "stream",
     "text": [
      " * Debug mode: off\n",
      "\u001b[31m\u001b[1mWARNING: This is a development server. Do not use it in a production deployment. Use a production WSGI server instead.\u001b[0m\n",
      " * Running on all addresses (0.0.0.0)\n",
      " * Running on http://127.0.0.1:8000\n",
      " * Running on http://192.168.100.69:8000\n",
      "\u001b[33mPress CTRL+C to quit\u001b[0m\n",
      "192.168.100.2 - - [27/Nov/2022 16:29:36] \"GET / HTTP/1.1\" 200 -\n",
      "192.168.100.2 - - [27/Nov/2022 16:29:36] \"\u001b[36mGET /static/css/css.css HTTP/1.1\u001b[0m\" 304 -\n",
      "192.168.100.2 - - [27/Nov/2022 16:29:36] \"\u001b[36mGET /static/css/Bootstrap1.css HTTP/1.1\u001b[0m\" 304 -\n",
      "192.168.100.2 - - [27/Nov/2022 16:29:36] \"\u001b[36mGET /static/css/main.css HTTP/1.1\u001b[0m\" 304 -\n",
      "192.168.100.2 - - [27/Nov/2022 16:29:36] \"\u001b[36mGET /static/css/Bootstrap2.css HTTP/1.1\u001b[0m\" 304 -\n",
      "192.168.100.2 - - [27/Nov/2022 16:29:36] \"\u001b[36mGET /static/images/logoGrande.png HTTP/1.1\u001b[0m\" 304 -\n",
      "192.168.100.2 - - [27/Nov/2022 16:29:36] \"\u001b[36mGET /static/images/logoChico.png HTTP/1.1\u001b[0m\" 304 -\n",
      "<FileStorage: 'arbol.jpg' ('image/jpeg')>\n",
      "192.168.100.2 - - [27/Nov/2022 16:33:53] \"POST /compressImage HTTP/1.1\" 200 -\n",
      "192.168.100.2 - - [27/Nov/2022 16:33:53] \"\u001b[36mGET /static/css/Bootstrap1.css HTTP/1.1\u001b[0m\" 304 -\n",
      "192.168.100.2 - - [27/Nov/2022 16:33:53] \"\u001b[36mGET /static/css/Bootstrap2.css HTTP/1.1\u001b[0m\" 304 -\n",
      "192.168.100.2 - - [27/Nov/2022 16:33:53] \"\u001b[36mGET /static/css/css.css HTTP/1.1\u001b[0m\" 304 -\n",
      "192.168.100.2 - - [27/Nov/2022 16:33:53] \"\u001b[36mGET /static/css/main.css HTTP/1.1\u001b[0m\" 304 -\n",
      "192.168.100.2 - - [27/Nov/2022 16:33:53] \"\u001b[36mGET /static/images/logoGrande.png HTTP/1.1\u001b[0m\" 304 -\n",
      "192.168.100.2 - - [27/Nov/2022 16:33:53] \"\u001b[36mGET /static/images/logoChico.png HTTP/1.1\u001b[0m\" 304 -\n",
      "<FileStorage: 'arbol.jpg' ('image/jpeg')>\n",
      "192.168.100.2 - - [27/Nov/2022 16:34:19] \"POST /compressImage HTTP/1.1\" 200 -\n",
      "192.168.100.2 - - [27/Nov/2022 16:34:19] \"\u001b[36mGET /static/css/Bootstrap2.css HTTP/1.1\u001b[0m\" 304 -\n",
      "192.168.100.2 - - [27/Nov/2022 16:34:19] \"\u001b[36mGET /static/css/Bootstrap1.css HTTP/1.1\u001b[0m\" 304 -\n",
      "192.168.100.2 - - [27/Nov/2022 16:34:19] \"\u001b[36mGET /static/css/css.css HTTP/1.1\u001b[0m\" 304 -\n",
      "192.168.100.2 - - [27/Nov/2022 16:34:19] \"\u001b[36mGET /static/css/main.css HTTP/1.1\u001b[0m\" 304 -\n",
      "192.168.100.2 - - [27/Nov/2022 16:34:19] \"\u001b[36mGET /static/images/logoGrande.png HTTP/1.1\u001b[0m\" 304 -\n",
      "192.168.100.2 - - [27/Nov/2022 16:34:19] \"\u001b[36mGET /static/images/logoChico.png HTTP/1.1\u001b[0m\" 304 -\n"
     ]
    }
   ],
   "source": [
    "!flask run --host=0.0.0.0 --port=8000"
   ]
  },
  {
   "cell_type": "code",
   "execution_count": null,
   "id": "df855fe1",
   "metadata": {},
   "outputs": [],
   "source": []
  }
 ],
 "metadata": {
  "kernelspec": {
   "display_name": "Python 3 (ipykernel)",
   "language": "python",
   "name": "python3"
  },
  "language_info": {
   "codemirror_mode": {
    "name": "ipython",
    "version": 3
   },
   "file_extension": ".py",
   "mimetype": "text/x-python",
   "name": "python",
   "nbconvert_exporter": "python",
   "pygments_lexer": "ipython3",
   "version": "3.9.2"
  }
 },
 "nbformat": 4,
 "nbformat_minor": 5
}
